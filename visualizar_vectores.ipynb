{
  "nbformat": 4,
  "nbformat_minor": 0,
  "metadata": {
    "colab": {
      "name": "visualizar vectores.ipynb",
      "provenance": [],
      "collapsed_sections": [],
      "authorship_tag": "ABX9TyOBUQlKF9vGMpG+RNrRVKoA",
      "include_colab_link": true
    },
    "kernelspec": {
      "name": "python3",
      "display_name": "Python 3"
    }
  },
  "cells": [
    {
      "cell_type": "markdown",
      "metadata": {
        "id": "view-in-github",
        "colab_type": "text"
      },
      "source": [
        "<a href=\"https://colab.research.google.com/github/lukystrikeibg/data-science/blob/main/visualizar_vectores.ipynb\" target=\"_parent\"><img src=\"https://colab.research.google.com/assets/colab-badge.svg\" alt=\"Open In Colab\"/></a>"
      ]
    },
    {
      "cell_type": "code",
      "metadata": {
        "id": "e5Ce4ex-EhJm"
      },
      "source": [
        "%matplotlib inline\n",
        " \n",
        " \n",
        "import numpy as np\n",
        "import matplotlib.pyplot as plt"
      ],
      "execution_count": null,
      "outputs": []
    },
    {
      "cell_type": "code",
      "metadata": {
        "id": "kBlfr_tbFHvr"
      },
      "source": [
        "v1=np.array([0,1])\n",
        "v2=np.array([1,0])"
      ],
      "execution_count": null,
      "outputs": []
    },
    {
      "cell_type": "code",
      "metadata": {
        "id": "4E6mP5p8Pvro",
        "colab": {
          "base_uri": "https://localhost:8080/"
        },
        "outputId": "cd5e6025-8609-46f1-867a-0c537c512360"
      },
      "source": [
        " from google.colab import drive \n",
        "drive.mount('/content/gdrive')"
      ],
      "execution_count": null,
      "outputs": [
        {
          "output_type": "stream",
          "text": [
            "Mounted at /content/gdrive\n"
          ],
          "name": "stdout"
        }
      ]
    },
    {
      "cell_type": "code",
      "metadata": {
        "id": "SaONLXzafjtE",
        "colab": {
          "base_uri": "https://localhost:8080/"
        },
        "outputId": "42ccd738-30c3-46ea-f898-3a92045cb8b5"
      },
      "source": [
        "%cd'/content/gdrive/My Drive/Colab Notebooks/algebra_lineal'"
      ],
      "execution_count": null,
      "outputs": [
        {
          "output_type": "stream",
          "text": [
            "/content/gdrive/My Drive/Colab Notebooks/algebra_lineal\n"
          ],
          "name": "stdout"
        }
      ]
    },
    {
      "cell_type": "code",
      "metadata": {
        "id": "j0qCmR7agLOR"
      },
      "source": [
        " %run './graficarvectores.ipynb'"
      ],
      "execution_count": null,
      "outputs": []
    },
    {
      "cell_type": "code",
      "metadata": {
        "id": "nWIdb3Y7LGR7",
        "colab": {
          "base_uri": "https://localhost:8080/",
          "height": 286
        },
        "outputId": "4776a414-4eac-4f9c-ae54-d70a224f1c00"
      },
      "source": [
        "graficarVectores([v1,v2],['orange', 'blue'])\n",
        " \n",
        "plt.xlim(-1,1)\n",
        "plt.ylim(-2,2)"
      ],
      "execution_count": null,
      "outputs": [
        {
          "output_type": "execute_result",
          "data": {
            "text/plain": [
              "(-2.0, 2.0)"
            ]
          },
          "metadata": {
            "tags": []
          },
          "execution_count": 6
        },
        {
          "output_type": "display_data",
          "data": {
            "image/png": "[encoded data removed]",
            "text/plain": [
              "<Figure size 432x288 with 1 Axes>"
            ]
          },
          "metadata": {
            "tags": [],
            "needs_background": "light"
          }
        }
      ]
    },
    {
      "cell_type": "markdown",
      "metadata": {
        "id": "QnKFB4AZNlOA"
      },
      "source": [
        "combinación lineal es la suma de  dos vectores multiplacados cada uno x un escalar"
      ]
    },
    {
      "cell_type": "code",
      "metadata": {
        "id": "LxNu_Bb2OEgu",
        "colab": {
          "base_uri": "https://localhost:8080/"
        },
        "outputId": "239b7723-a2b9-4ab0-c814-80b8e5b9298b"
      },
      "source": [
        "v1v2=2*v1 +3*v2\n",
        "print(v1v2)"
      ],
      "execution_count": null,
      "outputs": [
        {
          "output_type": "stream",
          "text": [
            "[3 2]\n"
          ],
          "name": "stdout"
        }
      ]
    },
    {
      "cell_type": "code",
      "metadata": {
        "id": "mAbTES8KOiuB",
        "colab": {
          "base_uri": "https://localhost:8080/",
          "height": 286
        },
        "outputId": "5bff00da-3042-41b9-fba2-4a117619d0e2"
      },
      "source": [
        " graficarVectores([v1,v2,v1v2],['orange', 'blue', 'red'])\n",
        " \n",
        "plt.xlim(-0.00,12)\n",
        "plt.ylim(-0.00,12)"
      ],
      "execution_count": null,
      "outputs": [
        {
          "output_type": "execute_result",
          "data": {
            "text/plain": [
              "(-0.0, 12.0)"
            ]
          },
          "metadata": {
            "tags": []
          },
          "execution_count": 8
        },
        {
          "output_type": "display_data",
          "data": {
            "image/png": "[encoded data removed]",
            "text/plain": [
              "<Figure size 432x288 with 1 Axes>"
            ]
          },
          "metadata": {
            "tags": [],
            "needs_background": "light"
          }
        }
      ]
    },
    {
      "cell_type": "code",
      "metadata": {
        "id": "d0lQypvmQah4",
        "colab": {
          "base_uri": "https://localhost:8080/",
          "height": 269
        },
        "outputId": "d22e64b0-1a36-43a6-d8a7-d756c060d770"
      },
      "source": [
        "for a in range (-10,10):\n",
        "    for b in range (-10,10):\n",
        "        plt.scatter(v1[0]*a + v2[0]*b, v1[1]*a+v2[1]*b,  \n",
        "        marker='.',\n",
        "        color = \"blue\")\n",
        " \n",
        "plt.xlim(-100,100)\n",
        "plt.ylim(-100,100)\n",
        " \n",
        "plt.axvline(x=0, color =\"grey\")\n",
        "plt.axhline(y=0, color =\"grey\")\n",
        " \n",
        "plt.show()"
      ],
      "execution_count": null,
      "outputs": [
        {
          "output_type": "display_data",
          "data": {
            "image/png": "[encoded data removed]",
            "text/plain": [
              "<Figure size 432x288 with 1 Axes>"
            ]
          },
          "metadata": {
            "tags": [],
            "needs_background": "light"
          }
        }
      ]
    },
    {
      "cell_type": "markdown",
      "metadata": {
        "id": "MLvVMOH26OEm"
      },
      "source": [
        "espacios y subespacios"
      ]
    },
    {
      "cell_type": "code",
      "metadata": {
        "id": "amijDvcB3CQj"
      },
      "source": [
        "v_1=np.array([1,1])\n",
        "v_2=np.array([-1,-1])"
      ],
      "execution_count": null,
      "outputs": []
    },
    {
      "cell_type": "markdown",
      "metadata": {
        "id": "SpbBO_pT87DL"
      },
      "source": [
        "R1 una dimensión"
      ]
    },
    {
      "cell_type": "code",
      "metadata": {
        "id": "j3eBXp5m6Uze",
        "colab": {
          "base_uri": "https://localhost:8080/",
          "height": 269
        },
        "outputId": "8c8731d2-8455-46e0-80c0-57cae5888b5d"
      },
      "source": [
        "for a in range (-10,10):\n",
        "    for b in range (-10,10):\n",
        "        plt.scatter(v_1[0]*a + v_2[0]*b, v_1[1]*a+v_2[1]*b,  \n",
        "        marker='.',\n",
        "        color = \"orange\")\n",
        " \n",
        "plt.xlim(-20,20)\n",
        "plt.ylim(-20,20)\n",
        " \n",
        "plt.axvline(x=0, color =\"grey\")\n",
        "plt.axhline(y=0, color =\"grey\")\n",
        " \n",
        "plt.show()"
      ],
      "execution_count": null,
      "outputs": [
        {
          "output_type": "display_data",
          "data": {
            "image/png": "[encoded data removed]",
            "text/plain": [
              "<Figure size 432x288 with 1 Axes>"
            ]
          },
          "metadata": {
            "tags": [],
            "needs_background": "light"
          }
        }
      ]
    },
    {
      "cell_type": "markdown",
      "metadata": {
        "id": "4G9ZeENY907j"
      },
      "source": [
        "R2 dos dimensiones"
      ]
    },
    {
      "cell_type": "code",
      "metadata": {
        "id": "YbObo2GJ8bRx"
      },
      "source": [
        "v_3=np.array([1,0])\n",
        "v_4=np.array([2,-3])"
      ],
      "execution_count": null,
      "outputs": []
    },
    {
      "cell_type": "code",
      "metadata": {
        "id": "958YCu1c9U7I",
        "colab": {
          "base_uri": "https://localhost:8080/",
          "height": 269
        },
        "outputId": "cdff396d-3fda-4233-e77a-9cf5cfda6b4d"
      },
      "source": [
        " for a in range (-10,10):\n",
        "    for b in range (-10,10):\n",
        "        plt.scatter(v_3[0]*a + v_4[0]*b, v_3[1]*a+v_4[1]*b,  \n",
        "        marker='.',\n",
        "        color = \"green\")\n",
        " \n",
        "plt.xlim(-20,20)\n",
        "plt.ylim(-20,20)\n",
        " \n",
        "plt.axvline(x=0, color =\"grey\")\n",
        "plt.axhline(y=0, color =\"grey\")\n",
        " \n",
        "plt.show()"
      ],
      "execution_count": null,
      "outputs": [
        {
          "output_type": "display_data",
          "data": {
            "image/png": "[encoded data removed]",
            "text/plain": [
              "<Figure size 432x288 with 1 Axes>"
            ]
          },
          "metadata": {
            "tags": [],
            "needs_background": "light"
          }
        }
      ]
    },
    {
      "cell_type": "markdown",
      "metadata": {
        "id": "m-F8X2IH-QGD"
      },
      "source": [
        "R3"
      ]
    },
    {
      "cell_type": "code",
      "metadata": {
        "id": "i8hxS-0S-NoO",
        "colab": {
          "base_uri": "https://localhost:8080/",
          "height": 248
        },
        "outputId": "90800a6d-8969-4cb5-a340-118afd027fcc"
      },
      "source": [
        " \n",
        " \n",
        "from mpl_toolkits.mplot3d import Axes3D\n",
        " \n",
        "V1=np.array([1,0,0])\n",
        "V=np.array([2,-3,0])\n",
        " \n",
        "fig=plt.figure()\n",
        "ax=fig.add_subplot (111,projection='3d')\n",
        " \n",
        " \n",
        "for a in range (-10,10):  \n",
        "    for b in range (-10,10):\n",
        "        ax.scatter(V1[0]*a + V[0]*b, V1[1]*a+V[1]*b,V1[2]*a+ V[2]*b, \n",
        "        marker='.',\n",
        "        color = \"green\")\n",
        " \n",
        "ax.set_xlabel('Eje x')\n",
        "ax.set_ylabel('Eje y')\n",
        "ax.set_zlabel('Eje z')\n",
        " \n",
        "plt.show()"
      ],
      "execution_count": null,
      "outputs": [
        {
          "output_type": "display_data",
          "data": {
            "image/png": "[encoded data removed]",
            "text/plain": [
              "<Figure size 432x288 with 1 Axes>"
            ]
          },
          "metadata": {
            "tags": [],
            "needs_background": "light"
          }
        }
      ]
    }
  ]
}