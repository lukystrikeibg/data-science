{
  "nbformat": 4,
  "nbformat_minor": 0,
  "metadata": {
    "colab": {
      "name": "distribution.ipynb",
      "provenance": [],
      "collapsed_sections": [],
      "authorship_tag": "ABX9TyP5pV9WlIDelneC42oxNJC3",
      "include_colab_link": true
    },
    "kernelspec": {
      "name": "python3",
      "display_name": "Python 3"
    }
  },
  "cells": [
    {
      "cell_type": "markdown",
      "metadata": {
        "id": "view-in-github",
        "colab_type": "text"
      },
      "source": [
        "<a href=\"https://colab.research.google.com/github/lukystrikeibg/data-science/blob/main/distribution.ipynb\" target=\"_parent\"><img src=\"https://colab.research.google.com/assets/colab-badge.svg\" alt=\"Open In Colab\"/></a>"
      ]
    },
    {
      "cell_type": "code",
      "metadata": {
        "id": "UIODY0x6Iu_z",
        "colab": {
          "base_uri": "https://localhost:8080/",
          "height": 71
        },
        "outputId": "9fbc1c5f-9447-48d9-e583-e13e66c14a66"
      },
      "source": [
        " import scipy.stats\n",
        "import numpy as np  \n",
        "import pandas as pd  \n",
        "import scipy  \n",
        " \n",
        "import matplotlib.pyplot as plt\n",
        "import seaborn as sns\n",
        "%matplotlib inline"
      ],
      "execution_count": null,
      "outputs": [
        {
          "output_type": "stream",
          "text": [
            "/usr/local/lib/python3.6/dist-packages/statsmodels/tools/_testing.py:19: FutureWarning: pandas.util.testing is deprecated. Use the functions in the public API at pandas.testing instead.\n",
            "  import pandas.util.testing as tm\n"
          ],
          "name": "stderr"
        }
      ]
    },
    {
      "cell_type": "code",
      "metadata": {
        "id": "OwFnTIeQKVc0",
        "colab": {
          "base_uri": "https://localhost:8080/",
          "height": 34
        },
        "outputId": "08a1a7ce-a5f7-4785-fb37-a4b5257c268c"
      },
      "source": [
        "from scipy.stats import bernoulli\n",
        "p=0.3\n",
        "data= bernoulli.rvs(p,size=100)\n",
        "len (data)"
      ],
      "execution_count": null,
      "outputs": [
        {
          "output_type": "execute_result",
          "data": {
            "text/plain": [
              "100"
            ]
          },
          "metadata": {
            "tags": []
          },
          "execution_count": 6
        }
      ]
    },
    {
      "cell_type": "code",
      "metadata": {
        "id": "QljWhDkjN0kJ",
        "colab": {
          "base_uri": "https://localhost:8080/",
          "height": 54
        },
        "outputId": "6a5f20bb-0af8-4f04-d976-d64452d5b561"
      },
      "source": [
        "mean,var,skew,kurt =bernoulli.stats(p, moments='mvsk')\n",
        "mean,var,skew,kurt"
      ],
      "execution_count": null,
      "outputs": [
        {
          "output_type": "execute_result",
          "data": {
            "text/plain": [
              "(array(0.3), array(0.21), array(0.87287156), array(-1.23809524))"
            ]
          },
          "metadata": {
            "tags": []
          },
          "execution_count": 5
        }
      ]
    },
    {
      "cell_type": "code",
      "metadata": {
        "id": "h5sehicFPlDw",
        "colab": {
          "base_uri": "https://localhost:8080/",
          "height": 262
        },
        "outputId": "6111aef7-a655-4069-dd3c-093314ad6e15"
      },
      "source": [
        "import seaborn as sns\n",
        "ax=sns.distplot(data, bins=30,kde= False, color='green')\n",
        "ax.set (xlabel= 'distribucion Bernoulli', ylabel='frecuencia')\n",
        "ax.axvline(x=mean, linestyle='--', label='media')\n",
        "ax.legend()"
      ],
      "execution_count": null,
      "outputs": [
        {
          "output_type": "execute_result",
          "data": {
            "text/plain": [
              "<matplotlib.legend.Legend at 0x7f72c82bac50>"
            ]
          },
          "metadata": {
            "tags": []
          },
          "execution_count": 16
        },
        {
          "output_type": "display_data",
          "data": {
            "image/png": "[encoded data removed]",
            "text/plain": [
              "<Figure size 432x288 with 1 Axes>"
            ]
          },
          "metadata": {
            "tags": [],
            "needs_background": "light"
          }
        }
      ]
    },
    {
      "cell_type": "code",
      "metadata": {
        "id": "2d2NEL0BSn02",
        "colab": {
          "base_uri": "https://localhost:8080/",
          "height": 34
        },
        "outputId": "b5acab8c-e5ea-465b-f54e-948eb8706127"
      },
      "source": [
        " from scipy.stats import binom\n",
        "p=0.3\n",
        "n=10\n",
        "data= binom.rvs(p=p, n=n, size=100)\n",
        "len (data)"
      ],
      "execution_count": null,
      "outputs": [
        {
          "output_type": "execute_result",
          "data": {
            "text/plain": [
              "100"
            ]
          },
          "metadata": {
            "tags": []
          },
          "execution_count": 20
        }
      ]
    },
    {
      "cell_type": "code",
      "metadata": {
        "id": "zsPUTtgSTqtO",
        "colab": {
          "base_uri": "https://localhost:8080/",
          "height": 54
        },
        "outputId": "74e6a74e-893b-4dab-c19d-c9b5e2b061ed"
      },
      "source": [
        " mean,var,skew,kurt =binom.stats(p=p,n=n, moments='mvsk')\n",
        "mean,var,skew,kurt"
      ],
      "execution_count": null,
      "outputs": [
        {
          "output_type": "execute_result",
          "data": {
            "text/plain": [
              "(array(3.), array(2.1), array(0.27602622), array(-0.12380952))"
            ]
          },
          "metadata": {
            "tags": []
          },
          "execution_count": 22
        }
      ]
    },
    {
      "cell_type": "code",
      "metadata": {
        "id": "1j3Frp5FU7ET",
        "colab": {
          "base_uri": "https://localhost:8080/",
          "height": 262
        },
        "outputId": "d7d92b3c-3cf5-4f15-ca13-e62bed255bb0"
      },
      "source": [
        " import seaborn as sns\n",
        "ax=sns.distplot(data, bins=30,kde= False, color='blue')\n",
        "ax.set (xlabel= 'distribucion binomial', ylabel='frecuencia')\n",
        "ax.axvline(x=mean, linestyle='--', label='media')\n",
        "ax.legend()"
      ],
      "execution_count": null,
      "outputs": [
        {
          "output_type": "execute_result",
          "data": {
            "text/plain": [
              "<matplotlib.legend.Legend at 0x7f72c52e8438>"
            ]
          },
          "metadata": {
            "tags": []
          },
          "execution_count": 24
        },
        {
          "output_type": "display_data",
          "data": {
            "image/png": "[encoded data removed]",
            "text/plain": [
              "<Figure size 432x288 with 1 Axes>"
            ]
          },
          "metadata": {
            "tags": [],
            "needs_background": "light"
          }
        }
      ]
    },
    {
      "cell_type": "code",
      "metadata": {
        "id": "TakNzXcVynWr",
        "colab": {
          "base_uri": "https://localhost:8080/",
          "height": 34
        },
        "outputId": "3d16c992-3c46-4c5e-cc72-e6fe588aa792"
      },
      "source": [
        " from scipy.stats import poisson\n",
        "lambda_p=100\n",
        "data= poisson.rvs(mu=lambda_p, size=100)\n",
        "len (data)"
      ],
      "execution_count": null,
      "outputs": [
        {
          "output_type": "execute_result",
          "data": {
            "text/plain": [
              "100"
            ]
          },
          "metadata": {
            "tags": []
          },
          "execution_count": 2
        }
      ]
    },
    {
      "cell_type": "code",
      "metadata": {
        "id": "cZvSg5IL86co",
        "colab": {
          "base_uri": "https://localhost:8080/",
          "height": 54
        },
        "outputId": "064d1e46-d80b-44f1-f087-3c2e3106b8a2"
      },
      "source": [
        "  mean,var,skew,kurt =poisson.stats(mu=lambda_p, moments='mvsk')\n",
        "mean,var,skew,kurt"
      ],
      "execution_count": null,
      "outputs": [
        {
          "output_type": "execute_result",
          "data": {
            "text/plain": [
              "(array(100.), array(100.), array(0.1), array(0.01))"
            ]
          },
          "metadata": {
            "tags": []
          },
          "execution_count": 3
        }
      ]
    },
    {
      "cell_type": "code",
      "metadata": {
        "id": "OEQkx9rO9PAZ",
        "colab": {
          "base_uri": "https://localhost:8080/",
          "height": 262
        },
        "outputId": "3e103dc2-7552-4ef5-9ee2-ce62e4dacf2a"
      },
      "source": [
        " \n",
        "ax=sns.distplot(data, bins=30,kde= False, color='blue')\n",
        "ax.set (xlabel= 'distribucion poisson', ylabel='frecuencia')\n",
        "ax.axvline(x=mean, linestyle='--', label='media')\n",
        "ax.legend()"
      ],
      "execution_count": null,
      "outputs": [
        {
          "output_type": "execute_result",
          "data": {
            "text/plain": [
              "<matplotlib.legend.Legend at 0x7f3e35b01cf8>"
            ]
          },
          "metadata": {
            "tags": []
          },
          "execution_count": 5
        },
        {
          "output_type": "display_data",
          "data": {
            "image/png": "[encoded data removed]",
            "text/plain": [
              "<Figure size 432x288 with 1 Axes>"
            ]
          },
          "metadata": {
            "tags": [],
            "needs_background": "light"
          }
        }
      ]
    },
    {
      "cell_type": "code",
      "metadata": {
        "id": "t8CGIE32-Ohg",
        "colab": {
          "base_uri": "https://localhost:8080/",
          "height": 34
        },
        "outputId": "fd09f894-3024-41ce-a530-a0ef2d992123"
      },
      "source": [
        " from scipy.stats import expon\n",
        "data= expon.rvs(size=100000000)\n",
        "len (data)"
      ],
      "execution_count": null,
      "outputs": [
        {
          "output_type": "execute_result",
          "data": {
            "text/plain": [
              "100000000"
            ]
          },
          "metadata": {
            "tags": []
          },
          "execution_count": 7
        }
      ]
    },
    {
      "cell_type": "code",
      "metadata": {
        "id": "XNVsEWbg_PO8",
        "colab": {
          "base_uri": "https://localhost:8080/",
          "height": 54
        },
        "outputId": "95f6a8d3-94eb-4538-817f-e6660dcec6b8"
      },
      "source": [
        "   mean,var,skew,kurt = expon.stats( moments='mvsk')\n",
        "mean,var,skew,kurt"
      ],
      "execution_count": null,
      "outputs": [
        {
          "output_type": "execute_result",
          "data": {
            "text/plain": [
              "(array(1.), array(1.), array(2.), array(6.))"
            ]
          },
          "metadata": {
            "tags": []
          },
          "execution_count": 9
        }
      ]
    },
    {
      "cell_type": "code",
      "metadata": {
        "id": "U-nWjruK_nyO",
        "colab": {
          "base_uri": "https://localhost:8080/",
          "height": 269
        },
        "outputId": "936b6451-8480-459e-b15b-69493a69b38b"
      },
      "source": [
        " \n",
        "ax=sns.distplot(data, bins=500,kde= False, color='red')\n",
        "ax.set (xlabel= 'dustribucion exponencial', ylabel='frecuencia')\n",
        "ax.axvline(x=mean, linestyle='--', label='media')\n",
        "ax.legend()"
      ],
      "execution_count": null,
      "outputs": [
        {
          "output_type": "execute_result",
          "data": {
            "text/plain": [
              "<matplotlib.legend.Legend at 0x7f3e354db160>"
            ]
          },
          "metadata": {
            "tags": []
          },
          "execution_count": 10
        },
        {
          "output_type": "display_data",
          "data": {
            "image/png": "[encoded data removed]",
            "text/plain": [
              "<Figure size 432x288 with 1 Axes>"
            ]
          },
          "metadata": {
            "tags": [],
            "needs_background": "light"
          }
        }
      ]
    },
    {
      "cell_type": "code",
      "metadata": {
        "id": "8xI1vuOLAFA0",
        "colab": {
          "base_uri": "https://localhost:8080/",
          "height": 34
        },
        "outputId": "eaae778e-ef83-4ef6-8a35-bf5cf391d590"
      },
      "source": [
        " from scipy.stats import norm\n",
        "mean =0\n",
        "var=1\n",
        "data= norm.rvs(size=100000000)\n",
        "len (data)"
      ],
      "execution_count": null,
      "outputs": [
        {
          "output_type": "execute_result",
          "data": {
            "text/plain": [
              "100000000"
            ]
          },
          "metadata": {
            "tags": []
          },
          "execution_count": 11
        }
      ]
    },
    {
      "cell_type": "code",
      "metadata": {
        "id": "nzlmcedoBMDC",
        "colab": {
          "base_uri": "https://localhost:8080/",
          "height": 54
        },
        "outputId": "76bb8fc1-5682-4eef-9aee-173df4399b30"
      },
      "source": [
        "    mean,var,skew,kurt = norm.stats( moments='mvsk')\n",
        "mean,var,skew,kurt"
      ],
      "execution_count": null,
      "outputs": [
        {
          "output_type": "execute_result",
          "data": {
            "text/plain": [
              "(array(0.), array(1.), array(0.), array(0.))"
            ]
          },
          "metadata": {
            "tags": []
          },
          "execution_count": 12
        }
      ]
    },
    {
      "cell_type": "code",
      "metadata": {
        "id": "cNX4UFNbBU9m",
        "colab": {
          "base_uri": "https://localhost:8080/",
          "height": 250
        },
        "outputId": "358bf7c1-8c97-4040-ee7f-91506fee40d4"
      },
      "source": [
        " \n",
        "ax=sns.distplot(data, bins=500,kde= False, color='yellow')\n",
        "ax.set (xlabel= 'dustribucion normal estandar', ylabel='frecuencia')\n",
        "ax.axvline(x=mean, linestyle='--', label='media')\n",
        "ax.legend()"
      ],
      "execution_count": null,
      "outputs": [
        {
          "output_type": "execute_result",
          "data": {
            "text/plain": [
              "<matplotlib.legend.Legend at 0x7f3e34fed438>"
            ]
          },
          "metadata": {
            "tags": []
          },
          "execution_count": 13
        },
        {
          "output_type": "display_data",
          "data": {
            "image/png": "[encoded data removed]",
            "text/plain": [
              "<Figure size 432x288 with 1 Axes>"
            ]
          },
          "metadata": {
            "tags": [],
            "needs_background": "light"
          }
        }
      ]
    },
    {
      "cell_type": "code",
      "metadata": {
        "id": "R3jyB9E1Bx5A",
        "colab": {
          "base_uri": "https://localhost:8080/",
          "height": 34
        },
        "outputId": "c5ba5fc4-6476-4dd5-ce5b-cd9b244b8b8c"
      },
      "source": [
        " from scipy.stats import uniform\n",
        "data= uniform.rvs(size=100000000)\n",
        "len (data)"
      ],
      "execution_count": null,
      "outputs": [
        {
          "output_type": "execute_result",
          "data": {
            "text/plain": [
              "100000000"
            ]
          },
          "metadata": {
            "tags": []
          },
          "execution_count": 14
        }
      ]
    },
    {
      "cell_type": "code",
      "metadata": {
        "id": "W9nMMiDFCG6N",
        "colab": {
          "base_uri": "https://localhost:8080/",
          "height": 54
        },
        "outputId": "72d536cd-9714-49de-810f-a8c4139e6e9d"
      },
      "source": [
        "     mean,var,skew,kurt = uniform.stats( moments='mvsk')\n",
        "mean,var,skew,kurt"
      ],
      "execution_count": null,
      "outputs": [
        {
          "output_type": "execute_result",
          "data": {
            "text/plain": [
              "(array(0.5), array(0.08333333), array(0.), array(-1.2))"
            ]
          },
          "metadata": {
            "tags": []
          },
          "execution_count": 16
        }
      ]
    },
    {
      "cell_type": "code",
      "metadata": {
        "id": "4Li58Wg0CSof",
        "colab": {
          "base_uri": "https://localhost:8080/",
          "height": 249
        },
        "outputId": "0cfe5041-a1c8-477a-8234-d3f6f12725e2"
      },
      "source": [
        " \n",
        "ax=sns.distplot(data, bins=500,kde= False, color='green')\n",
        "ax.set (xlabel= 'dustribucion uniform 0-1', ylabel='frecuencia')\n",
        "ax.axvline(x=mean, linestyle='--', label='media')\n",
        "ax.legend()"
      ],
      "execution_count": null,
      "outputs": [
        {
          "output_type": "execute_result",
          "data": {
            "text/plain": [
              "<matplotlib.legend.Legend at 0x7f3e351efe10>"
            ]
          },
          "metadata": {
            "tags": []
          },
          "execution_count": 17
        },
        {
          "output_type": "display_data",
          "data": {
            "image/png": "[encoded data removed]",
            "text/plain": [
              "<Figure size 432x288 with 1 Axes>"
            ]
          },
          "metadata": {
            "tags": [],
            "needs_background": "light"
          }
        }
      ]
    }
  ]
}