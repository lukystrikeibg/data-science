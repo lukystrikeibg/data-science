{
  "nbformat": 4,
  "nbformat_minor": 0,
  "metadata": {
    "colab": {
      "name": "estimadores de datos.ipynb",
      "provenance": [],
      "collapsed_sections": [],
      "authorship_tag": "ABX9TyOzXyh6liZel054WFRBYQ3m",
      "include_colab_link": true
    },
    "kernelspec": {
      "name": "python3",
      "display_name": "Python 3"
    }
  },
  "cells": [
    {
      "cell_type": "markdown",
      "metadata": {
        "id": "view-in-github",
        "colab_type": "text"
      },
      "source": [
        "<a href=\"https://colab.research.google.com/github/lukystrikeibg/data-science/blob/main/estimadores_de_datos.ipynb\" target=\"_parent\"><img src=\"https://colab.research.google.com/assets/colab-badge.svg\" alt=\"Open In Colab\"/></a>"
      ]
    },
    {
      "cell_type": "code",
      "metadata": {
        "id": "K91g7mJeGTm9",
        "colab": {
          "base_uri": "https://localhost:8080/",
          "height": 71
        },
        "outputId": "e4c7449c-c4cc-4bca-85bf-5ef0ab1e61f4"
      },
      "source": [
        "import sklearn\n",
        "import numpy as np\n",
        "import pandas as pd  \n",
        "import scipy  \n",
        "from sklearn.datasets import load_iris\n",
        "from scipy import stats\n",
        "import matplotlib.pyplot as plt\n",
        "import seaborn as sns\n",
        "%matplotlib inline"
      ],
      "execution_count": null,
      "outputs": [
        {
          "output_type": "stream",
          "text": [
            "/usr/local/lib/python3.6/dist-packages/statsmodels/tools/_testing.py:19: FutureWarning: pandas.util.testing is deprecated. Use the functions in the public API at pandas.testing instead.\n",
            "  import pandas.util.testing as tm\n"
          ],
          "name": "stderr"
        }
      ]
    },
    {
      "cell_type": "code",
      "metadata": {
        "id": "tnUT8P3SHvZb",
        "colab": {
          "base_uri": "https://localhost:8080/",
          "height": 34
        },
        "outputId": "4c8dbb2a-8af8-4dc6-f22d-5b6f5e085959"
      },
      "source": [
        "from scipy.stats import norm\n",
        "\n",
        "#muestra x tamaño 1\n",
        "x1=3\n",
        "# parametro poblacional \n",
        "mu1 = 4\n",
        "mu2= 7\n",
        "#desviacion estandar\n",
        "sigma= 1\n",
        "# pdf= probability density function\n",
        "\n",
        "P_muestra=norm.pdf(x1,mu1,sigma) # para mu1\n",
        "P_muestra\n"
      ],
      "execution_count": null,
      "outputs": [
        {
          "output_type": "execute_result",
          "data": {
            "text/plain": [
              "0.24197072451914337"
            ]
          },
          "metadata": {
            "tags": []
          },
          "execution_count": 5
        }
      ]
    },
    {
      "cell_type": "markdown",
      "metadata": {
        "id": "V-MtKNUzI_H-"
      },
      "source": [
        "probilidad de la muestra mu1"
      ]
    },
    {
      "cell_type": "code",
      "metadata": {
        "id": "DxHoYiFqJG2U",
        "colab": {
          "base_uri": "https://localhost:8080/",
          "height": 34
        },
        "outputId": "1141ac4c-7146-4e32-f3d9-7e2a1aa76ae4"
      },
      "source": [
        "P_muestra2=P_muestra=norm.pdf(x1,mu2,sigma) # para mu2\n",
        "P_muestra2"
      ],
      "execution_count": null,
      "outputs": [
        {
          "output_type": "execute_result",
          "data": {
            "text/plain": [
              "0.00013383022576488537"
            ]
          },
          "metadata": {
            "tags": []
          },
          "execution_count": 8
        }
      ]
    },
    {
      "cell_type": "markdown",
      "metadata": {
        "id": "8W1-VmXJRTGD"
      },
      "source": [
        "muestra con 2 valores"
      ]
    },
    {
      "cell_type": "code",
      "metadata": {
        "id": "JM9DWO2ZRlkE",
        "colab": {
          "base_uri": "https://localhost:8080/",
          "height": 34
        },
        "outputId": "400b6334-bca1-4d26-979f-9fb03d7d3e5d"
      },
      "source": [
        "from scipy.stats import norm\n",
        "\n",
        "#muestra x tamaño 2\n",
        "x1=3\n",
        "x2 = 10\n",
        "# parametro poblacional \n",
        "mu1 = 4\n",
        "mu2= 7\n",
        "#desviacion estandar\n",
        "sigma= 1\n",
        "# pdf= probability density function\n",
        "\n",
        "P_muestra=norm.pdf(x1,mu1,sigma)*norm.pdf(x2,mu1,sigma) # para mu1\n",
        "P_muestra\n"
      ],
      "execution_count": null,
      "outputs": [
        {
          "output_type": "execute_result",
          "data": {
            "text/plain": [
              "1.4701857752651781e-09"
            ]
          },
          "metadata": {
            "tags": []
          },
          "execution_count": 9
        }
      ]
    },
    {
      "cell_type": "code",
      "metadata": {
        "id": "fW52CdR5SBdO"
      },
      "source": [
        "muestra_10=norm.rvs(5,sigma,size=10)\n",
        "data1=norm.rvs(mu1, sigma,size=10000000)\n",
        "data2=norm.rvs(mu2, sigma, size=1000000)"
      ],
      "execution_count": null,
      "outputs": []
    },
    {
      "cell_type": "code",
      "metadata": {
        "id": "-yoW_bgxVJ75",
        "colab": {
          "base_uri": "https://localhost:8080/",
          "height": 296
        },
        "outputId": "d5754aaf-1f27-476c-a3e0-327af704e7e0"
      },
      "source": [
        "ax = sns.distplot(data1,bins= 50, color='blue')\n",
        "ax.set(xlabel= 'distribucion normal mu1', ylabel='frecuencia')\n",
        "ax = sns.distplot(data2,bins= 50, color='red')\n",
        "ax.set(xlabel= 'distribucion normal mu2', ylabel='frecuencia')"
      ],
      "execution_count": null,
      "outputs": [
        {
          "output_type": "execute_result",
          "data": {
            "text/plain": [
              "[Text(0, 0.5, 'frecuencia'), Text(0.5, 0, 'distribucion normal mu2')]"
            ]
          },
          "metadata": {
            "tags": []
          },
          "execution_count": 19
        },
        {
          "output_type": "display_data",
          "data": {
            "image/png": "[encoded data removed]",
            "text/plain": [
              "<Figure size 432x288 with 1 Axes>"
            ]
          },
          "metadata": {
            "tags": [],
            "needs_background": "light"
          }
        }
      ]
    },
    {
      "cell_type": "code",
      "metadata": {
        "id": "aoy2GLrtW4zE",
        "colab": {
          "base_uri": "https://localhost:8080/",
          "height": 51
        },
        "outputId": "eadd7f6a-53c5-48a9-ebc7-5d42ecd473fc"
      },
      "source": [
        "muestra_10"
      ],
      "execution_count": null,
      "outputs": [
        {
          "output_type": "execute_result",
          "data": {
            "text/plain": [
              "array([6.44908099, 6.04845267, 5.00998581, 5.21348965, 4.97431412,\n",
              "       5.37409271, 5.9012364 , 4.86079958, 3.62463808, 5.77266105])"
            ]
          },
          "metadata": {
            "tags": []
          },
          "execution_count": 20
        }
      ]
    },
    {
      "cell_type": "code",
      "metadata": {
        "id": "Ji97B8eFWfnm"
      },
      "source": [
        "muestra_10\n",
        "y= list([])\n",
        "for i in range (10):\n",
        "    y.append (8000)"
      ],
      "execution_count": null,
      "outputs": []
    },
    {
      "cell_type": "code",
      "metadata": {
        "id": "y1uZfEzLXu8L",
        "colab": {
          "base_uri": "https://localhost:8080/",
          "height": 296
        },
        "outputId": "cb1b95a9-26df-416f-9efa-5dc78327a5f7"
      },
      "source": [
        "ax = sns.distplot(data1,bins= 50, color='blue', kde =False)\n",
        "ax.set(xlabel= 'distribucion normal mu1', ylabel='frecuencia')\n",
        "\n",
        "ax = sns.distplot(data2,bins= 50, color='red',kde=False)\n",
        "ax.set(xlabel= 'distribucion normal mu2', ylabel='frecuencia')\n",
        "\n",
        "ax.scatter(muestra_10,y,c='k')\n"
      ],
      "execution_count": null,
      "outputs": [
        {
          "output_type": "execute_result",
          "data": {
            "text/plain": [
              "<matplotlib.collections.PathCollection at 0x7f7e8d856da0>"
            ]
          },
          "metadata": {
            "tags": []
          },
          "execution_count": 29
        },
        {
          "output_type": "display_data",
          "data": {
            "image/png": "[encoded data removed]",
            "text/plain": [
              "<Figure size 432x288 with 1 Axes>"
            ]
          },
          "metadata": {
            "tags": [],
            "needs_background": "light"
          }
        }
      ]
    },
    {
      "cell_type": "code",
      "metadata": {
        "id": "BelVmxzpXlEn"
      },
      "source": [
        ""
      ],
      "execution_count": null,
      "outputs": []
    }
  ]
}